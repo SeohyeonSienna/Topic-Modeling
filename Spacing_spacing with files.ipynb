{
 "cells": [
  {
   "cell_type": "code",
   "execution_count": 1,
   "id": "437d2dcf",
   "metadata": {},
   "outputs": [
    {
     "name": "stdout",
     "output_type": "stream",
     "text": [
      "Collecting git+https://github.com/haven-jeon/PyKoSpacing.git\n",
      "  Cloning https://github.com/haven-jeon/PyKoSpacing.git to c:\\users\\user\\appdata\\local\\temp\\pip-req-build-f31fszsb\n",
      "  Resolved https://github.com/haven-jeon/PyKoSpacing.git to commit 5bb0b3e8f62c1936a430745297821a9ecd78beb1\n",
      "Requirement already satisfied: tensorflow==2.9.3 in c:\\.anaconda\\lib\\site-packages (from pykospacing==0.5) (2.9.3)\n",
      "Requirement already satisfied: h5py==3.1.0 in c:\\.anaconda\\lib\\site-packages (from pykospacing==0.5) (3.1.0)\n",
      "Collecting argparse>=1.4.0\n",
      "  Using cached argparse-1.4.0-py2.py3-none-any.whl (23 kB)\n",
      "Requirement already satisfied: numpy>=1.19.3 in c:\\.anaconda\\lib\\site-packages (from h5py==3.1.0->pykospacing==0.5) (1.25.1)\n",
      "Requirement already satisfied: libclang>=13.0.0 in c:\\.anaconda\\lib\\site-packages (from tensorflow==2.9.3->pykospacing==0.5) (16.0.6)\n",
      "Requirement already satisfied: astunparse>=1.6.0 in c:\\.anaconda\\lib\\site-packages (from tensorflow==2.9.3->pykospacing==0.5) (1.6.3)\n",
      "Requirement already satisfied: flatbuffers<2,>=1.12 in c:\\.anaconda\\lib\\site-packages (from tensorflow==2.9.3->pykospacing==0.5) (1.12)\n",
      "Requirement already satisfied: tensorflow-estimator<2.10.0,>=2.9.0rc0 in c:\\.anaconda\\lib\\site-packages (from tensorflow==2.9.3->pykospacing==0.5) (2.9.0)\n",
      "Requirement already satisfied: keras<2.10.0,>=2.9.0rc0 in c:\\.anaconda\\lib\\site-packages (from tensorflow==2.9.3->pykospacing==0.5) (2.9.0)\n",
      "Requirement already satisfied: six>=1.12.0 in c:\\.anaconda\\lib\\site-packages (from tensorflow==2.9.3->pykospacing==0.5) (1.15.0)\n",
      "Requirement already satisfied: absl-py>=1.0.0 in c:\\.anaconda\\lib\\site-packages (from tensorflow==2.9.3->pykospacing==0.5) (1.4.0)\n",
      "Requirement already satisfied: wrapt>=1.11.0 in c:\\.anaconda\\lib\\site-packages (from tensorflow==2.9.3->pykospacing==0.5) (1.12.1)\n",
      "Requirement already satisfied: google-pasta>=0.1.1 in c:\\.anaconda\\lib\\site-packages (from tensorflow==2.9.3->pykospacing==0.5) (0.2.0)\n",
      "Requirement already satisfied: setuptools in c:\\.anaconda\\lib\\site-packages (from tensorflow==2.9.3->pykospacing==0.5) (58.0.4)\n",
      "Requirement already satisfied: gast<=0.4.0,>=0.2.1 in c:\\.anaconda\\lib\\site-packages (from tensorflow==2.9.3->pykospacing==0.5) (0.4.0)\n",
      "Requirement already satisfied: opt-einsum>=2.3.2 in c:\\.anaconda\\lib\\site-packages (from tensorflow==2.9.3->pykospacing==0.5) (3.3.0)\n",
      "Requirement already satisfied: tensorboard<2.10,>=2.9 in c:\\.anaconda\\lib\\site-packages (from tensorflow==2.9.3->pykospacing==0.5) (2.9.0)\n",
      "Requirement already satisfied: keras-preprocessing>=1.1.1 in c:\\.anaconda\\lib\\site-packages (from tensorflow==2.9.3->pykospacing==0.5) (1.1.2)\n",
      "Requirement already satisfied: grpcio<2.0,>=1.24.3 in c:\\.anaconda\\lib\\site-packages (from tensorflow==2.9.3->pykospacing==0.5) (1.34.1)\n",
      "Requirement already satisfied: packaging in c:\\.anaconda\\lib\\site-packages (from tensorflow==2.9.3->pykospacing==0.5) (21.0)\n",
      "Requirement already satisfied: typing-extensions>=3.6.6 in c:\\.anaconda\\lib\\site-packages (from tensorflow==2.9.3->pykospacing==0.5) (3.7.4.3)\n",
      "Requirement already satisfied: protobuf<3.20,>=3.9.2 in c:\\.anaconda\\lib\\site-packages (from tensorflow==2.9.3->pykospacing==0.5) (3.19.6)\n",
      "Requirement already satisfied: termcolor>=1.1.0 in c:\\.anaconda\\lib\\site-packages (from tensorflow==2.9.3->pykospacing==0.5) (1.1.0)\n",
      "Requirement already satisfied: tensorflow-io-gcs-filesystem>=0.23.1 in c:\\.anaconda\\lib\\site-packages (from tensorflow==2.9.3->pykospacing==0.5) (0.31.0)\n",
      "Requirement already satisfied: wheel<1.0,>=0.23.0 in c:\\.anaconda\\lib\\site-packages (from astunparse>=1.6.0->tensorflow==2.9.3->pykospacing==0.5) (0.37.0)\n",
      "Requirement already satisfied: google-auth<3,>=1.6.3 in c:\\.anaconda\\lib\\site-packages (from tensorboard<2.10,>=2.9->tensorflow==2.9.3->pykospacing==0.5) (2.6.6)\n",
      "Requirement already satisfied: google-auth-oauthlib<0.5,>=0.4.1 in c:\\.anaconda\\lib\\site-packages (from tensorboard<2.10,>=2.9->tensorflow==2.9.3->pykospacing==0.5) (0.4.6)\n",
      "Requirement already satisfied: markdown>=2.6.8 in c:\\.anaconda\\lib\\site-packages (from tensorboard<2.10,>=2.9->tensorflow==2.9.3->pykospacing==0.5) (3.3.7)\n",
      "Requirement already satisfied: werkzeug>=1.0.1 in c:\\.anaconda\\lib\\site-packages (from tensorboard<2.10,>=2.9->tensorflow==2.9.3->pykospacing==0.5) (2.0.2)\n",
      "Requirement already satisfied: tensorboard-plugin-wit>=1.6.0 in c:\\.anaconda\\lib\\site-packages (from tensorboard<2.10,>=2.9->tensorflow==2.9.3->pykospacing==0.5) (1.8.1)\n",
      "Requirement already satisfied: requests<3,>=2.21.0 in c:\\.anaconda\\lib\\site-packages (from tensorboard<2.10,>=2.9->tensorflow==2.9.3->pykospacing==0.5) (2.26.0)\n",
      "Requirement already satisfied: tensorboard-data-server<0.7.0,>=0.6.0 in c:\\.anaconda\\lib\\site-packages (from tensorboard<2.10,>=2.9->tensorflow==2.9.3->pykospacing==0.5) (0.6.1)\n",
      "Requirement already satisfied: pyasn1-modules>=0.2.1 in c:\\.anaconda\\lib\\site-packages (from google-auth<3,>=1.6.3->tensorboard<2.10,>=2.9->tensorflow==2.9.3->pykospacing==0.5) (0.2.8)\n",
      "Requirement already satisfied: rsa<5,>=3.1.4 in c:\\.anaconda\\lib\\site-packages (from google-auth<3,>=1.6.3->tensorboard<2.10,>=2.9->tensorflow==2.9.3->pykospacing==0.5) (4.8)\n",
      "Requirement already satisfied: cachetools<6.0,>=2.0.0 in c:\\.anaconda\\lib\\site-packages (from google-auth<3,>=1.6.3->tensorboard<2.10,>=2.9->tensorflow==2.9.3->pykospacing==0.5) (5.0.0)\n",
      "Requirement already satisfied: requests-oauthlib>=0.7.0 in c:\\.anaconda\\lib\\site-packages (from google-auth-oauthlib<0.5,>=0.4.1->tensorboard<2.10,>=2.9->tensorflow==2.9.3->pykospacing==0.5) (1.3.1)\n",
      "Requirement already satisfied: importlib-metadata>=4.4 in c:\\.anaconda\\lib\\site-packages (from markdown>=2.6.8->tensorboard<2.10,>=2.9->tensorflow==2.9.3->pykospacing==0.5) (4.8.1)\n",
      "Requirement already satisfied: zipp>=0.5 in c:\\.anaconda\\lib\\site-packages (from importlib-metadata>=4.4->markdown>=2.6.8->tensorboard<2.10,>=2.9->tensorflow==2.9.3->pykospacing==0.5) (3.6.0)\n",
      "Requirement already satisfied: pyasn1<0.5.0,>=0.4.6 in c:\\.anaconda\\lib\\site-packages (from pyasn1-modules>=0.2.1->google-auth<3,>=1.6.3->tensorboard<2.10,>=2.9->tensorflow==2.9.3->pykospacing==0.5) (0.4.8)\n",
      "Requirement already satisfied: idna<4,>=2.5 in c:\\.anaconda\\lib\\site-packages (from requests<3,>=2.21.0->tensorboard<2.10,>=2.9->tensorflow==2.9.3->pykospacing==0.5) (3.2)\n",
      "Requirement already satisfied: charset-normalizer~=2.0.0 in c:\\.anaconda\\lib\\site-packages (from requests<3,>=2.21.0->tensorboard<2.10,>=2.9->tensorflow==2.9.3->pykospacing==0.5) (2.0.4)\n",
      "Requirement already satisfied: urllib3<1.27,>=1.21.1 in c:\\.anaconda\\lib\\site-packages (from requests<3,>=2.21.0->tensorboard<2.10,>=2.9->tensorflow==2.9.3->pykospacing==0.5) (1.26.7)\n",
      "Requirement already satisfied: certifi>=2017.4.17 in c:\\.anaconda\\lib\\site-packages (from requests<3,>=2.21.0->tensorboard<2.10,>=2.9->tensorflow==2.9.3->pykospacing==0.5) (2021.10.8)\n",
      "Requirement already satisfied: oauthlib>=3.0.0 in c:\\.anaconda\\lib\\site-packages (from requests-oauthlib>=0.7.0->google-auth-oauthlib<0.5,>=0.4.1->tensorboard<2.10,>=2.9->tensorflow==2.9.3->pykospacing==0.5) (3.2.0)\n",
      "Requirement already satisfied: pyparsing>=2.0.2 in c:\\.anaconda\\lib\\site-packages (from packaging->tensorflow==2.9.3->pykospacing==0.5) (3.0.4)\n",
      "Installing collected packages: argparse\n",
      "Successfully installed argparse-1.4.0\n"
     ]
    },
    {
     "name": "stderr",
     "output_type": "stream",
     "text": [
      "  Running command git clone -q https://github.com/haven-jeon/PyKoSpacing.git 'C:\\Users\\user\\AppData\\Local\\Temp\\pip-req-build-f31fszsb'\n"
     ]
    }
   ],
   "source": [
    "!pip install --user git+https://github.com/haven-jeon/PyKoSpacing.git"
   ]
  },
  {
   "cell_type": "code",
   "execution_count": 3,
   "id": "b5825350",
   "metadata": {},
   "outputs": [],
   "source": [
    "import pandas as pd\n",
    "from pykospacing import Spacing\n",
    "\n",
    "# file path\n",
    "file_path = 'C:\\\\Twitter_working_final.csv'\n",
    "\n",
    "# read csv\n",
    "df = pd.read_csv(file_path)\n",
    "\n",
    "# remove space in second row\n",
    "df['message'] = df['message'].str.replace(\" \", '')"
   ]
  },
  {
   "cell_type": "code",
   "execution_count": 4,
   "id": "2685ff2c",
   "metadata": {},
   "outputs": [
    {
     "name": "stdout",
     "output_type": "stream",
     "text": [
      "        No                                            message\n",
      "0        1  일본 불법체류 남성 '한국에 돌아가느니 죽는다.'입관 난민법 위반(불법 잔류)으로 ...\n",
      "1        2  지도교수님의 '난민법' 수업에서 인신매매를 주제로 다뤘다. 빈곤, 성 상품화, 노동...\n",
      "2        3  대한민국 난민 소송 현황-건국 이래 총 333건의 난민 소송 제기됨.난민이 최종 승...\n",
      "3        4  대한민국 난민 소송 현황-건국 이래 총 333건의 난민 소송 제기됨.난민이 최종 승...\n",
      "4        5        난민 문제의 또 다른 단면-난민제도 국제법 수준으로 독립된 난민법 발의에 기대\n",
      "...    ...                                                ...\n",
      "9454  9457  네가 끼고 살아라 제발 정우성 UNHCR 친선대사\"제주예멘 난민, 우려와 달리 잘 정착\"\n",
      "9455  9458  제주 난민 사태 2년, \"난민 반대\"여전 여성·2030이 더 부정적 \"여성, 난민 ...\n",
      "9456  9459  2018년 제주난민 사태가 벌어졌을 당시 그는 한국 사회의 반응에 상처를 받기도 했...\n",
      "9457  9460  2018년 제주난민 사태가 벌어졌을 당시 그는 한국 사회의 반응에 상처를 받기도 했...\n",
      "9458  9461  난민에 외국인 신분인 아버지는 당시 도 일자리를 구하기 어렵던 상황이라 사무엘이 다...\n",
      "\n",
      "[9459 rows x 2 columns]\n"
     ]
    }
   ],
   "source": [
    "# Spacing subject\n",
    "spacing = Spacing()\n",
    "\n",
    "# spacing\n",
    "df['message'] = df['message'].apply(lambda x: spacing(x))\n",
    "\n",
    "# 결과 출력\n",
    "print(df)\n"
   ]
  },
  {
   "cell_type": "code",
   "execution_count": 5,
   "id": "bb50f799",
   "metadata": {},
   "outputs": [],
   "source": [
    "output_file_path = 'C:\\\\Processed_Twitter_working_final.csv'\n",
    "df.to_csv(output_file_path, index=False)"
   ]
  },
  {
   "cell_type": "code",
   "execution_count": null,
   "id": "32e65da8",
   "metadata": {},
   "outputs": [],
   "source": []
  }
 ],
 "metadata": {
  "kernelspec": {
   "display_name": "Python 3 (ipykernel)",
   "language": "python",
   "name": "python3"
  },
  "language_info": {
   "codemirror_mode": {
    "name": "ipython",
    "version": 3
   },
   "file_extension": ".py",
   "mimetype": "text/x-python",
   "name": "python",
   "nbconvert_exporter": "python",
   "pygments_lexer": "ipython3",
   "version": "3.9.7"
  }
 },
 "nbformat": 4,
 "nbformat_minor": 5
}
